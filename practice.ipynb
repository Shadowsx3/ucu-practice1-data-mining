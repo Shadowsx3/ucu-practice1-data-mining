{
 "cells": [
  {
   "cell_type": "markdown",
   "metadata": {},
   "source": [
    "# UCU 2024 - Práctica 1\n",
    "\n",
    "Data Mining - Rest API\n",
    "\n",
    "## Consumo de Datos Históricos Financieros desde una API y Exportación a JSON"
   ]
  },
  {
   "cell_type": "markdown",
   "metadata": {},
   "source": [
    "(Optional) -> Install packages"
   ]
  },
  {
   "cell_type": "code",
   "execution_count": 1,
   "metadata": {
    "vscode": {
     "languageId": "shellscript"
    }
   },
   "outputs": [
    {
     "name": "stdout",
     "output_type": "stream",
     "text": [
      "Requirement already satisfied: requests in c:\\users\\manue\\src\\ucu-practice1-data-mining\\.venv\\lib\\site-packages (from -r requirements.txt (line 1)) (2.32.3)\n",
      "Requirement already satisfied: python-dotenv in c:\\users\\manue\\src\\ucu-practice1-data-mining\\.venv\\lib\\site-packages (from -r requirements.txt (line 2)) (1.0.1)\n",
      "Requirement already satisfied: charset-normalizer<4,>=2 in c:\\users\\manue\\src\\ucu-practice1-data-mining\\.venv\\lib\\site-packages (from requests->-r requirements.txt (line 1)) (3.4.0)\n",
      "Requirement already satisfied: idna<4,>=2.5 in c:\\users\\manue\\src\\ucu-practice1-data-mining\\.venv\\lib\\site-packages (from requests->-r requirements.txt (line 1)) (3.10)\n",
      "Requirement already satisfied: urllib3<3,>=1.21.1 in c:\\users\\manue\\src\\ucu-practice1-data-mining\\.venv\\lib\\site-packages (from requests->-r requirements.txt (line 1)) (2.2.3)\n",
      "Requirement already satisfied: certifi>=2017.4.17 in c:\\users\\manue\\src\\ucu-practice1-data-mining\\.venv\\lib\\site-packages (from requests->-r requirements.txt (line 1)) (2024.8.30)\n",
      "Note: you may need to restart the kernel to use updated packages.\n"
     ]
    }
   ],
   "source": [
    "pip install -r requirements.txt"
   ]
  },
  {
   "cell_type": "markdown",
   "metadata": {},
   "source": [
    "Import requirements and set constants"
   ]
  },
  {
   "cell_type": "code",
   "execution_count": 3,
   "metadata": {},
   "outputs": [],
   "source": [
    "from os import environ\n",
    "from dotenv import load_dotenv\n",
    "import requests\n",
    "import json\n",
    "\n",
    "\n",
    "load_dotenv()\n",
    "URL = \"https://api.coingecko.com/api/v3/coins/bitcoin/history\"\n",
    "DATES = (\n",
    "    \"01-01-2024\",\n",
    "    \"01-07-2024\",\n",
    "    \"01-01-2022\",\n",
    "    \"01-07-2022\",\n",
    "    \"01-01-2023\",\n",
    "    \"01-07-2023\"\n",
    ")\n",
    "CURRENCIES = (\"eur\", \"usd\")\n",
    "API_KEY = (\"x_cg_demo_api_key\", environ[\"CG_API_KEY\"])"
   ]
  },
  {
   "cell_type": "markdown",
   "metadata": {},
   "source": [
    "Task:\n",
    "Realiza una solicitud HTTP GET a la API para cada una de las fechas indicadas.\n",
    "Extrae los datos mencionados (precio en USD, precio en EUR)."
   ]
  },
  {
   "cell_type": "code",
   "execution_count": 4,
   "metadata": {},
   "outputs": [
    {
     "name": "stdout",
     "output_type": "stream",
     "text": [
      "Error Code: 401, Date: 01-01-2022, Reason: Unauthorized\n",
      "Error Code: 401, Date: 01-07-2022, Reason: Unauthorized\n",
      "Error Code: 401, Date: 01-01-2023, Reason: Unauthorized\n",
      "Error Code: 401, Date: 01-07-2023, Reason: Unauthorized\n"
     ]
    }
   ],
   "source": [
    "market_data = {\"data\": []}\n",
    "for date in DATES:\n",
    "    response = requests.get(URL, params=[API_KEY, ('date', date)])\n",
    "    market_snapshot = {\n",
    "            \"date\": date,\n",
    "            \"price_usd\": None,\n",
    "            \"price_eur\": None,\n",
    "            \"market_cap\": None # Let's assume USD\n",
    "        }\n",
    "    try:\n",
    "        if response.status_code == 200:\n",
    "            response_data = response.json()[\"market_data\"]\n",
    "\n",
    "            for currency in CURRENCIES:\n",
    "                market_snapshot[f\"price_{currency}\"] = response_data[\"current_price\"][currency]\n",
    "            market_snapshot[\"market_cap\"] = response_data[\"market_cap\"][\"eur\"]\n",
    "        else:\n",
    "            print(f\"Error Code: {response.status_code}, Date: {date}, Reason: {response.reason}\")\n",
    "    except Exception as e:\n",
    "        print(e)\n",
    "    finally:\n",
    "        market_data[\"data\"].append(market_snapshot)"
   ]
  },
  {
   "cell_type": "markdown",
   "metadata": {},
   "source": [
    "Task:\n",
    "Guarda estos datos en un archivo en formato JSON llamado bitcoin_historical_data.json"
   ]
  },
  {
   "cell_type": "code",
   "execution_count": 6,
   "metadata": {},
   "outputs": [
    {
     "name": "stdout",
     "output_type": "stream",
     "text": [
      "{\n",
      "   \"data\": [\n",
      "      {\n",
      "         \"date\": \"01-01-2024\",\n",
      "         \"price_usd\": 42208.202176186474,\n",
      "         \"price_eur\": 38240.20908960317,\n",
      "         \"market_cap\": 749793913990.623\n",
      "      },\n",
      "      {\n",
      "         \"date\": \"01-07-2024\",\n",
      "         \"price_usd\": 62734.39383945474,\n",
      "         \"price_eur\": 58430.814422068135,\n",
      "         \"market_cap\": 1151840688521.5325\n",
      "      },\n",
      "      {\n",
      "         \"date\": \"01-01-2022\",\n",
      "         \"price_usd\": null,\n",
      "         \"price_eur\": null,\n",
      "         \"market_cap\": null\n",
      "      },\n",
      "      {\n",
      "         \"date\": \"01-07-2022\",\n",
      "         \"price_usd\": null,\n",
      "         \"price_eur\": null,\n",
      "         \"market_cap\": null\n",
      "      },\n",
      "      {\n",
      "         \"date\": \"01-01-2023\",\n",
      "         \"price_usd\": null,\n",
      "         \"price_eur\": null,\n",
      "         \"market_cap\": null\n",
      "      },\n",
      "      {\n",
      "         \"date\": \"01-07-2023\",\n",
      "         \"price_usd\": null,\n",
      "         \"price_eur\": null,\n",
      "         \"market_cap\": null\n",
      "      }\n",
      "   ]\n",
      "}\n"
     ]
    }
   ],
   "source": [
    "with open(\"bitcoin_historical_data.json\", \"w\") as bitcoin_file:\n",
    "    formatted_json = json.dumps(market_data, indent=3)\n",
    "    print(formatted_json)\n",
    "\n",
    "    bitcoin_file.write(formatted_json)"
   ]
  }
 ],
 "metadata": {
  "kernelspec": {
   "display_name": ".venv",
   "language": "python",
   "name": "python3"
  },
  "language_info": {
   "codemirror_mode": {
    "name": "ipython",
    "version": 3
   },
   "file_extension": ".py",
   "mimetype": "text/x-python",
   "name": "python",
   "nbconvert_exporter": "python",
   "pygments_lexer": "ipython3",
   "version": "3.12.4"
  }
 },
 "nbformat": 4,
 "nbformat_minor": 2
}
